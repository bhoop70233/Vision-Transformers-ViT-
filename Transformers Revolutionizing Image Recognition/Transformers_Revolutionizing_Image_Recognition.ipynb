{
  "nbformat": 4,
  "nbformat_minor": 0,
  "metadata": {
    "colab": {
      "provenance": []
    },
    "kernelspec": {
      "name": "python3",
      "display_name": "Python 3"
    },
    "language_info": {
      "name": "python"
    }
  },
  "cells": [
    {
      "cell_type": "code",
      "execution_count": 1,
      "metadata": {
        "colab": {
          "base_uri": "https://localhost:8080/"
        },
        "id": "_aj29rp8pzvv",
        "outputId": "bb6a450c-6cd9-4543-bf65-c79a303e58be"
      },
      "outputs": [
        {
          "output_type": "stream",
          "name": "stdout",
          "text": [
            "Collecting einops\n",
            "  Downloading einops-0.8.0-py3-none-any.whl (43 kB)\n",
            "\u001b[2K     \u001b[90m━━━━━━━━━━━━━━━━━━━━━━━━━━━━━━━━━━━━━━━━\u001b[0m \u001b[32m43.2/43.2 kB\u001b[0m \u001b[31m703.2 kB/s\u001b[0m eta \u001b[36m0:00:00\u001b[0m\n",
            "\u001b[?25hInstalling collected packages: einops\n",
            "Successfully installed einops-0.8.0\n"
          ]
        }
      ],
      "source": [
        "!pip install einops\n"
      ]
    },
    {
      "cell_type": "code",
      "source": [
        "import math\n",
        "\n",
        "import six\n",
        "from einops.layers.tensorflow import Rearrange\n",
        "import tensorflow as tf\n",
        "from tensorflow.keras.callbacks import TensorBoard\n",
        "\n",
        "from tensorflow.keras import datasets\n",
        "\n",
        "import logging\n",
        "import numpy as np\n",
        "\n",
        "from fastprogress import master_bar, progress_bar\n",
        ""
      ],
      "metadata": {
        "id": "q15XlMMPp3Gd"
      },
      "execution_count": 4,
      "outputs": []
    },
    {
      "cell_type": "code",
      "source": [
        "!pip install --upgrade nvidia-pyindex"
      ],
      "metadata": {
        "colab": {
          "base_uri": "https://localhost:8080/"
        },
        "id": "B-xJtszHqAfJ",
        "outputId": "36566a80-6e09-4589-a9f6-c4f7d47513cc"
      },
      "execution_count": 6,
      "outputs": [
        {
          "output_type": "stream",
          "name": "stdout",
          "text": [
            "Collecting nvidia-pyindex\n",
            "  Downloading nvidia-pyindex-1.0.9.tar.gz (10 kB)\n",
            "  Preparing metadata (setup.py) ... \u001b[?25l\u001b[?25hdone\n",
            "Building wheels for collected packages: nvidia-pyindex\n",
            "  Building wheel for nvidia-pyindex (setup.py) ... \u001b[?25l\u001b[?25hdone\n",
            "  Created wheel for nvidia-pyindex: filename=nvidia_pyindex-1.0.9-py3-none-any.whl size=8419 sha256=99e035f27c75440485a4df0d2dfe6d206c41f8287d6c272ecf6593822b5da869\n",
            "  Stored in directory: /root/.cache/pip/wheels/2c/af/d0/7a12f82cab69f65d51107f48bcd6179e29b9a69a90546332b3\n",
            "Successfully built nvidia-pyindex\n",
            "Installing collected packages: nvidia-pyindex\n",
            "Successfully installed nvidia-pyindex-1.0.9\n"
          ]
        }
      ]
    },
    {
      "cell_type": "code",
      "source": [
        "def gelu(x):\n",
        "    \"\"\"Gaussian Error Linear Unit.\n",
        "    This is a smoother version of the RELU.\n",
        "    Original paper: https://arxiv.org/abs/1606.08415\n",
        "    Args:\n",
        "        x: float Tensor to perform activation.\n",
        "    Returns:\n",
        "        `x` with the GELU activation applied.\n",
        "    \"\"\"\n",
        "    cdf = 0.5 * (1.0 + tf.tanh(\n",
        "        (math.sqrt(2 / math.pi) * (x + 0.044715 * tf.pow(x, 3)))))\n",
        "    return x * cdf"
      ],
      "metadata": {
        "id": "DrWFCN2Lq4T0"
      },
      "execution_count": 8,
      "outputs": []
    },
    {
      "cell_type": "code",
      "source": [
        "def get_activation(identifier):\n",
        "    \"\"\"Maps a identifier to a Python function, e.g., \"relu\" => `tf.nn.relu`.\n",
        "    It checks string first and if it is one of customized activation not in TF,\n",
        "    the corresponding activation will be returned. For non-customized activation\n",
        "    names and callable identifiers, always fallback to tf.keras.activations.get.\n",
        "    Args:\n",
        "        identifier: String name of the activation function or callable.\n",
        "    Returns:\n",
        "        A Python function corresponding to the activation function.\n",
        "    \"\"\"\n",
        "    if isinstance(identifier, six.string_types):\n",
        "        name_to_fn = {\"gelu\": gelu}\n",
        "        identifier = str(identifier).lower()\n",
        "        if identifier in name_to_fn:\n",
        "            return tf.keras.activations.get(name_to_fn[identifier])\n",
        "    return tf.keras.activations.get(identifier)"
      ],
      "metadata": {
        "id": "e6zTBppRq91S"
      },
      "execution_count": 9,
      "outputs": []
    },
    {
      "cell_type": "code",
      "source": [
        "class Residual(tf.keras.Model):\n",
        "\n",
        "    def __init__(self, fn):\n",
        "        super().__init__()\n",
        "        self.fn = fn\n",
        "\n",
        "    def call(self, x):\n",
        "        return self.fn(x) + x\n",
        "\n",
        "\n",
        "class PreNorm(tf.keras.Model):\n",
        "\n",
        "    def __init__(self, dim, fn):\n",
        "        super().__init__()\n",
        "        self.norm = tf.keras.layers.LayerNormalization(epsilon=1e-5)\n",
        "        self.fn = fn\n",
        "\n",
        "    def call(self, x):\n",
        "        return self.fn(self.norm(x))"
      ],
      "metadata": {
        "id": "f5LlsaBrrAyp"
      },
      "execution_count": 10,
      "outputs": []
    },
    {
      "cell_type": "code",
      "source": [
        "class FeedForward(tf.keras.Model):\n",
        "\n",
        "    def __init__(self, dim, hidden_dim):\n",
        "        super().__init__()\n",
        "        self.net = tf.keras.Sequential([tf.keras.layers.Dense(hidden_dim, activation=get_activation('gelu')),\n",
        "                                        tf.keras.layers.Dense(dim)])\n",
        "\n",
        "    def call(self, x):\n",
        "        return self.net(x)\n",
        "\n",
        "class Attention(tf.keras.Model):\n",
        "\n",
        "    def __init__(self, dim, heads = 8):\n",
        "        super().__init__()\n",
        "        self.heads = heads\n",
        "        self.scale = dim ** -0.5\n",
        "\n",
        "        self.to_qkv = tf.keras.layers.Dense(dim * 3, use_bias=False)\n",
        "        self.to_out = tf.keras.layers.Dense(dim)\n",
        "\n",
        "        self.rearrange_qkv = Rearrange('b n (qkv h d) -> qkv b h n d', qkv = 3, h = self.heads)\n",
        "        self.rearrange_out = Rearrange('b h n d -> b n (h d)')\n",
        "\n",
        "    def call(self, x):\n",
        "        qkv = self.to_qkv(x)\n",
        "        qkv = self.rearrange_qkv(qkv)\n",
        "        q = qkv[0]\n",
        "        k = qkv[1]\n",
        "        v = qkv[2]\n",
        "\n",
        "        dots = tf.einsum('bhid,bhjd->bhij', q, k) * self.scale\n",
        "        attn = tf.nn.softmax(dots,axis=-1)\n",
        "\n",
        "        out = tf.einsum('bhij,bhjd->bhid', attn, v)\n",
        "        out = self.rearrange_out(out)\n",
        "        out =  self.to_out(out)\n",
        "        return out"
      ],
      "metadata": {
        "id": "owu574nRrEa2"
      },
      "execution_count": 14,
      "outputs": []
    },
    {
      "cell_type": "code",
      "source": [
        "class Transformer(tf.keras.Model):\n",
        "\n",
        "    def __init__(self, dim, depth, heads, mlp_dim):\n",
        "        super().__init__()\n",
        "        layers = []\n",
        "        for _ in range(depth):\n",
        "            layers.extend([\n",
        "                Residual(PreNorm(dim, Attention(dim, heads = heads))),\n",
        "                Residual(PreNorm(dim, FeedForward(dim, mlp_dim)))\n",
        "            ])\n",
        "        self.net = tf.keras.Sequential(layers)\n",
        "\n",
        "    def call(self, x):\n",
        "        return self.net(x)"
      ],
      "metadata": {
        "id": "J6g2mDb8rHgg"
      },
      "execution_count": 15,
      "outputs": []
    },
    {
      "cell_type": "code",
      "source": [
        "class ViT(tf.keras.Model):\n",
        "\n",
        "    def __init__(self, *, image_size, patch_size, num_classes, dim, depth, heads, mlp_dim, channels=3):\n",
        "        super().__init__()\n",
        "        assert image_size % patch_size == 0, 'image dimensions must be divisible by the patch size'\n",
        "        num_patches = (image_size // patch_size) ** 2\n",
        "        patch_dim = channels * patch_size ** 2\n",
        "\n",
        "        self.patch_size = patch_size\n",
        "        self.dim = dim\n",
        "        self.pos_embedding = self.add_weight(\"position_embeddings\",\n",
        "                                             shape=[num_patches + 1,\n",
        "                                                    dim],\n",
        "                                             initializer=tf.keras.initializers.RandomNormal(),\n",
        "                                             dtype=tf.float32)\n",
        "        self.patch_to_embedding = tf.keras.layers.Dense(dim)\n",
        "        self.cls_token = self.add_weight(\"cls_token\",\n",
        "                                         shape=[1,\n",
        "                                                1,\n",
        "                                                dim],\n",
        "                                         initializer=tf.keras.initializers.RandomNormal(),\n",
        "                                         dtype=tf.float32)\n",
        "\n",
        "        self.rearrange = Rearrange('b c (h p1) (w p2) -> b (h w) (p1 p2 c)', p1=self.patch_size, p2=self.patch_size)\n",
        "\n",
        "        self.transformer = Transformer(dim, depth, heads, mlp_dim)\n",
        "\n",
        "        self.to_cls_token = tf.identity\n",
        "\n",
        "        self.mlp_head = tf.keras.Sequential([tf.keras.layers.Dense(mlp_dim, activation=get_activation('gelu')),\n",
        "                                        tf.keras.layers.Dense(num_classes)])\n",
        "\n",
        "    @tf.function\n",
        "    def call(self, img):\n",
        "        shapes = tf.shape(img)\n",
        "\n",
        "        x = self.rearrange(img)\n",
        "        x = self.patch_to_embedding(x)\n",
        "\n",
        "        cls_tokens = tf.broadcast_to(self.cls_token,(shapes[0],1,self.dim))\n",
        "        x = tf.concat((cls_tokens, x), axis=1)\n",
        "        x += self.pos_embedding\n",
        "        x = self.transformer(x)\n",
        "\n",
        "        x = self.to_cls_token(x[:, 0])\n",
        "        return self.mlp_head(x)"
      ],
      "metadata": {
        "id": "QK-JFEmyrRWy"
      },
      "execution_count": 19,
      "outputs": []
    },
    {
      "cell_type": "code",
      "source": [
        "logger = logging.getLogger(__name__)\n",
        "\n",
        "\n",
        "class TrainerConfig:\n",
        "    # optimization parameters\n",
        "    max_epochs = 10\n",
        "    batch_size = 64\n",
        "    learning_rate = 1e-3\n",
        "    # checkpoint settings\n",
        "    ckpt_path = None\n",
        "\n",
        "    def __init__(self, **kwargs):\n",
        "        for k, v in kwargs.items():\n",
        "            setattr(self, k, v)"
      ],
      "metadata": {
        "id": "tHYV1epirXBR"
      },
      "execution_count": 20,
      "outputs": []
    },
    {
      "cell_type": "code",
      "source": [
        "class Trainer:\n",
        "\n",
        "    def __init__(self, model, model_config, train_dataset, train_dataset_len, test_dataset, test_dataset_len, config):\n",
        "        self.train_dataset = train_dataset.batch(config.batch_size)\n",
        "        self.train_dataset_len = train_dataset_len\n",
        "        self.test_dataset = test_dataset\n",
        "        self.test_dataset_len = None\n",
        "        self.test_dist_dataset = None\n",
        "        if self.test_dataset:\n",
        "            self.test_dataset = test_dataset.batch(config.batch_size)\n",
        "            self.test_dataset_len = test_dataset_len\n",
        "        self.config = config\n",
        "        self.tokens = 0\n",
        "        self.strategy = tf.distribute.OneDeviceStrategy(\"GPU:0\")\n",
        "        if len(tf.config.list_physical_devices('GPU')) > 1:\n",
        "            self.strategy = tf.distribute.MirroredStrategy()\n",
        "\n",
        "        with self.strategy.scope():\n",
        "            self.model = model(**model_config)\n",
        "            self.optimizer = tf.keras.optimizers.Adam(learning_rate=config.learning_rate)\n",
        "            self.cce = tf.keras.losses.SparseCategoricalCrossentropy(from_logits=True,reduction=tf.keras.losses.Reduction.NONE)\n",
        "            self.train_dist_dataset = self.strategy.experimental_distribute_dataset(self.train_dataset)\n",
        "            if self.test_dataset:\n",
        "                self.test_dist_dataset = self.strategy.experimental_distribute_dataset(self.test_dataset)\n",
        "\n",
        "    def save_checkpoints(self):\n",
        "        if self.config.ckpt_path is not None:\n",
        "            self.model.save_weights(self.config.ckpt_path)\n",
        "\n",
        "\n",
        "    def train(self):\n",
        "\n",
        "        train_loss_metric = tf.keras.metrics.Mean('training_loss', dtype=tf.float32)\n",
        "        test_loss_metric = tf.keras.metrics.Mean('testing_loss', dtype=tf.float32)\n",
        "\n",
        "        train_accuracy = tf.keras.metrics.Accuracy('training_accuracy', dtype=tf.float32)\n",
        "        test_accuracy = tf.keras.metrics.Accuracy('testing_accuracy', dtype=tf.float32)\n",
        "\n",
        "        @tf.function\n",
        "        def train_step(dist_inputs):\n",
        "\n",
        "            def step_fn(inputs):\n",
        "\n",
        "                X, Y = inputs\n",
        "\n",
        "                with tf.GradientTape() as tape:\n",
        "                # training=True is only needed if there are layers with different\n",
        "                # behavior during training versus inference (e.g. Dropout).\n",
        "                    logits = self.model(X,training=True)\n",
        "                    num_labels = tf.shape(logits)[-1]\n",
        "                    label_mask = tf.math.logical_not(Y < 0)\n",
        "                    label_mask = tf.reshape(label_mask,(-1,))\n",
        "                    logits = tf.reshape(logits,(-1,num_labels))\n",
        "                    logits_masked = tf.boolean_mask(logits,label_mask)\n",
        "                    label_ids = tf.reshape(Y,(-1,))\n",
        "                    label_ids_masked = tf.boolean_mask(label_ids,label_mask)\n",
        "                    cross_entropy = self.cce(label_ids_masked, logits_masked)\n",
        "                    loss = tf.reduce_sum(cross_entropy) * (1.0 / self.config.batch_size)\n",
        "                    y_pred = tf.argmax(tf.nn.softmax(logits,axis=-1),axis=-1)\n",
        "                    train_accuracy.update_state(tf.squeeze(Y),y_pred)\n",
        "\n",
        "                grads = tape.gradient(loss, self.model.trainable_variables)\n",
        "                self.optimizer.apply_gradients(list(zip(grads, self.model.trainable_variables)))\n",
        "                return cross_entropy\n",
        "\n",
        "            per_example_losses = self.strategy.run(step_fn, args=(dist_inputs,))\n",
        "            sum_loss = self.strategy.reduce(tf.distribute.ReduceOp.SUM, per_example_losses, axis=0)\n",
        "            mean_loss = sum_loss / self.config.batch_size\n",
        "            return mean_loss\n",
        "\n",
        "        @tf.function\n",
        "        def test_step(dist_inputs):\n",
        "\n",
        "            def step_fn(inputs):\n",
        "\n",
        "                X, Y = inputs\n",
        "                # training=True is only needed if there are layers with different\n",
        "                # behavior during training versus inference (e.g. Dropout).\n",
        "                logits = self.model(X,training=False)\n",
        "                num_labels = tf.shape(logits)[-1]\n",
        "                label_mask = tf.math.logical_not(Y < 0)\n",
        "                label_mask = tf.reshape(label_mask,(-1,))\n",
        "                logits = tf.reshape(logits,(-1,num_labels))\n",
        "                logits_masked = tf.boolean_mask(logits,label_mask)\n",
        "                label_ids = tf.reshape(Y,(-1,))\n",
        "                label_ids_masked = tf.boolean_mask(label_ids,label_mask)\n",
        "                cross_entropy = self.cce(label_ids_masked, logits_masked)\n",
        "                loss = tf.reduce_sum(cross_entropy) * (1.0 / self.config.batch_size)\n",
        "                y_pred = tf.argmax(tf.nn.softmax(logits,axis=-1),axis=-1)\n",
        "                test_accuracy.update_state(tf.squeeze(Y),y_pred)\n",
        "\n",
        "                return cross_entropy\n",
        "\n",
        "            per_example_losses = self.strategy.run(step_fn, args=(dist_inputs,))\n",
        "            sum_loss = self.strategy.reduce(tf.distribute.ReduceOp.SUM, per_example_losses, axis=0)\n",
        "            mean_loss = sum_loss / self.config.batch_size\n",
        "            return mean_loss\n",
        "\n",
        "        train_pb_max_len = math.ceil(float(self.train_dataset_len)/float(self.config.batch_size))\n",
        "        test_pb_max_len = math.ceil(float(self.test_dataset_len)/float(self.config.batch_size)) if self.test_dataset else None\n",
        "\n",
        "        epoch_bar = master_bar(range(self.config.max_epochs))\n",
        "        with self.strategy.scope():\n",
        "            for epoch in epoch_bar:\n",
        "                for inputs in progress_bar(self.train_dist_dataset,total=train_pb_max_len,parent=epoch_bar):\n",
        "                    loss = train_step(inputs)\n",
        "                    self.tokens += tf.reduce_sum(tf.cast(inputs[1]>=0,tf.int32)).numpy()\n",
        "                    train_loss_metric(loss)\n",
        "                    epoch_bar.child.comment = f'training loss : {train_loss_metric.result()}'\n",
        "                print(f\"epoch {epoch+1}: train loss {train_loss_metric.result():.5f}. train accuracy {train_accuracy.result():.5f}\")\n",
        "                train_loss_metric.reset_states()\n",
        "                train_accuracy.reset_states()\n",
        "\n",
        "                if self.test_dist_dataset:\n",
        "                    for inputs in progress_bar(self.test_dist_dataset,total=test_pb_max_len,parent=epoch_bar):\n",
        "                        loss = test_step(inputs)\n",
        "                        test_loss_metric(loss)\n",
        "                        epoch_bar.child.comment = f'testing loss : {test_loss_metric.result()}'\n",
        "                    print(f\"epoch {epoch+1}: test loss {test_loss_metric.result():.5f}. test accuracy {test_accuracy.result():.5f}\")\n",
        "                    test_loss_metric.reset_states()\n",
        "                    test_accuracy.reset_states()\n",
        "\n",
        "                self.save_checkpoints()"
      ],
      "metadata": {
        "id": "m4p4flJ2rrLa"
      },
      "execution_count": 21,
      "outputs": []
    },
    {
      "cell_type": "code",
      "source": [
        "(train_images, train_labels), (test_images, test_labels) = datasets.cifar10.load_data()\n"
      ],
      "metadata": {
        "colab": {
          "base_uri": "https://localhost:8080/"
        },
        "id": "22DttE5ur3Ky",
        "outputId": "e8e3b87b-b7ba-4bc1-f1c2-a66ab4d82b30"
      },
      "execution_count": 22,
      "outputs": [
        {
          "output_type": "stream",
          "name": "stdout",
          "text": [
            "Downloading data from https://www.cs.toronto.edu/~kriz/cifar-10-python.tar.gz\n",
            "170498071/170498071 [==============================] - 6s 0us/step\n"
          ]
        }
      ]
    },
    {
      "cell_type": "code",
      "source": [
        "train_images = tf.cast(train_images.reshape((-1, 3, 32, 32)),dtype=tf.float32)\n",
        "test_images = tf.cast(test_images.reshape((-1, 3, 32, 32)),dtype=tf.float32)\n",
        "train_images, test_images = train_images / 255.0, test_images / 255.0\n",
        "\n"
      ],
      "metadata": {
        "id": "YxVPJ104r62s"
      },
      "execution_count": 23,
      "outputs": []
    },
    {
      "cell_type": "code",
      "source": [
        "train_x = tf.data.Dataset.from_tensor_slices(train_images,)\n",
        "train_y = tf.data.Dataset.from_tensor_slices(train_labels)\n",
        "train_dataset = tf.data.Dataset.zip((train_x,train_y))\n",
        "test_x = tf.data.Dataset.from_tensor_slices(test_images)\n",
        "test_y = tf.data.Dataset.from_tensor_slices(test_labels)\n",
        "test_dataset = tf.data.Dataset.zip((test_x,test_y))"
      ],
      "metadata": {
        "id": "P7f8dP2lsCiI"
      },
      "execution_count": 24,
      "outputs": []
    },
    {
      "cell_type": "code",
      "source": [
        "tconf = TrainerConfig(max_epochs=10, batch_size=64, learning_rate=1e-3)\n"
      ],
      "metadata": {
        "id": "IC-VlsVBsGe3"
      },
      "execution_count": 25,
      "outputs": []
    },
    {
      "cell_type": "code",
      "source": [
        "# sample model config.\n",
        "model_config = {\"image_size\":32,\n",
        "                \"patch_size\":4,\n",
        "                \"num_classes\":10,\n",
        "                \"dim\":64,\n",
        "                \"depth\":3,\n",
        "                \"heads\":4,\n",
        "                \"mlp_dim\":128}"
      ],
      "metadata": {
        "id": "neyVKpvQsIyg"
      },
      "execution_count": 26,
      "outputs": []
    },
    {
      "cell_type": "code",
      "source": [
        "trainer = Trainer(ViT, model_config, train_dataset, len(train_images), test_dataset, len(test_images), tconf)\n"
      ],
      "metadata": {
        "id": "1aXc1sulsM0m"
      },
      "execution_count": 27,
      "outputs": []
    },
    {
      "cell_type": "code",
      "source": [
        "trainer.train()\n"
      ],
      "metadata": {
        "colab": {
          "base_uri": "https://localhost:8080/",
          "height": 421
        },
        "id": "5rDoIsB_sPHY",
        "outputId": "c99833d2-6d78-41b8-92af-4f9d27174b7e"
      },
      "execution_count": 28,
      "outputs": [
        {
          "data": {
            "text/html": [
              "\n",
              "<style>\n",
              "    /* Turns off some styling */\n",
              "    progress {\n",
              "        /* gets rid of default border in Firefox and Opera. */\n",
              "        border: none;\n",
              "        /* Needs to be in here for Safari polyfill so background images work as expected. */\n",
              "        background-size: auto;\n",
              "    }\n",
              "    progress:not([value]), progress:not([value])::-webkit-progress-bar {\n",
              "        background: repeating-linear-gradient(45deg, #7e7e7e, #7e7e7e 10px, #5c5c5c 10px, #5c5c5c 20px);\n",
              "    }\n",
              "    .progress-bar-interrupted, .progress-bar-interrupted::-webkit-progress-bar {\n",
              "        background: #F44336;\n",
              "    }\n",
              "</style>\n"
            ],
            "text/plain": [
              "<IPython.core.display.HTML object>"
            ]
          },
          "metadata": {},
          "output_type": "display_data"
        },
        {
          "data": {
            "text/html": [
              "\n",
              "    <div>\n",
              "      <progress value='1' class='' max='10' style='width:300px; height:20px; vertical-align: middle;'></progress>\n",
              "      10.00% [1/10 04:43&lt;42:32]\n",
              "    </div>\n",
              "    \n",
              "\n",
              "\n",
              "    <div>\n",
              "      <progress value='146' class='' max='782' style='width:300px; height:20px; vertical-align: middle;'></progress>\n",
              "      18.67% [146/782 00:38&lt;02:47 training loss : 1.5596275329589844]\n",
              "    </div>\n",
              "    "
            ],
            "text/plain": [
              "<IPython.core.display.HTML object>"
            ]
          },
          "metadata": {},
          "output_type": "display_data"
        },
        {
          "metadata": {
            "tags": null
          },
          "name": "stdout",
          "output_type": "stream",
          "text": [
            "epoch 1: train loss 1.76410. train accuracy 0.35208\n",
            "epoch 1: test loss 1.62572. test accuracy 0.41170\n"
          ]
        },
        {
          "output_type": "display_data",
          "data": {
            "text/plain": [
              "<IPython.core.display.HTML object>"
            ],
            "text/html": []
          },
          "metadata": {}
        },
        {
          "output_type": "stream",
          "name": "stdout",
          "text": [
            "epoch 2: train loss 1.50410. train accuracy 0.45130\n",
            "epoch 2: test loss 1.45408. test accuracy 0.46920\n",
            "epoch 3: train loss 1.41104. train accuracy 0.48826\n",
            "epoch 3: test loss 1.41396. test accuracy 0.48180\n",
            "epoch 4: train loss 1.35018. train accuracy 0.51314\n",
            "epoch 4: test loss 1.38046. test accuracy 0.49340\n",
            "epoch 5: train loss 1.30054. train accuracy 0.53158\n",
            "epoch 5: test loss 1.39053. test accuracy 0.49550\n",
            "epoch 6: train loss 1.25531. train accuracy 0.54820\n",
            "epoch 6: test loss 1.41227. test accuracy 0.48630\n",
            "epoch 7: train loss 1.21847. train accuracy 0.56154\n",
            "epoch 7: test loss 1.39823. test accuracy 0.49960\n",
            "epoch 8: train loss 1.18781. train accuracy 0.57322\n",
            "epoch 8: test loss 1.39305. test accuracy 0.50490\n",
            "epoch 9: train loss 1.15844. train accuracy 0.58362\n",
            "epoch 9: test loss 1.37606. test accuracy 0.50960\n",
            "epoch 10: train loss 1.13037. train accuracy 0.59104\n",
            "epoch 10: test loss 1.41835. test accuracy 0.50150\n"
          ]
        }
      ]
    },
    {
      "cell_type": "code",
      "source": [],
      "metadata": {
        "id": "kq012uIKsRpl"
      },
      "execution_count": null,
      "outputs": []
    }
  ]
}